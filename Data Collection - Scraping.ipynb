{
    "cells": [
        {
            "cell_type": "markdown",
            "metadata": {},
            "source": "<center>\n    <img src=\"https://gitlab.com/ibm/skills-network/courses/placeholder101/-/raw/master/labs/module%201/images/IDSNlogo.png\" width=\"300\" alt=\"cognitiveclass.ai logo\"  />\n</center>\n"
        },
        {
            "cell_type": "markdown",
            "metadata": {},
            "source": "# **Space X  Falcon 9 First Stage Landing Prediction**\n"
        },
        {
            "cell_type": "markdown",
            "metadata": {},
            "source": "## Web scraping Falcon 9 and Falcon Heavy Launches Records from Wikipedia\n"
        },
        {
            "cell_type": "markdown",
            "metadata": {},
            "source": "Estimated time needed: **40** minutes\n"
        },
        {
            "cell_type": "markdown",
            "metadata": {},
            "source": "In this lab, you will be performing web scraping to collect Falcon 9 historical launch records from a Wikipedia page titled `List of Falcon 9 and Falcon Heavy launches`\n\n[https://en.wikipedia.org/wiki/List_of_Falcon\\_9\\_and_Falcon_Heavy_launches](https://en.wikipedia.org/wiki/List_of_Falcon\\_9\\_and_Falcon_Heavy_launches?utm_medium=Exinfluencer&utm_source=Exinfluencer&utm_content=000026UJ&utm_term=10006555&utm_id=NA-SkillsNetwork-Channel-SkillsNetworkCoursesIBMDS0321ENSkillsNetwork26802033-2021-01-01)\n"
        },
        {
            "cell_type": "markdown",
            "metadata": {},
            "source": "![](https://cf-courses-data.s3.us.cloud-object-storage.appdomain.cloud/IBM-DS0321EN-SkillsNetwork/labs/module\\_1\\_L2/images/Falcon9\\_rocket_family.svg)\n"
        },
        {
            "cell_type": "markdown",
            "metadata": {},
            "source": "Falcon 9 first stage will land successfully\n"
        },
        {
            "cell_type": "markdown",
            "metadata": {},
            "source": "![](https://cf-courses-data.s3.us.cloud-object-storage.appdomain.cloud/IBMDeveloperSkillsNetwork-DS0701EN-SkillsNetwork/api/Images/landing\\_1.gif)\n"
        },
        {
            "cell_type": "markdown",
            "metadata": {},
            "source": "Several examples of an unsuccessful landing are shown here:\n"
        },
        {
            "cell_type": "markdown",
            "metadata": {},
            "source": "![](https://cf-courses-data.s3.us.cloud-object-storage.appdomain.cloud/IBMDeveloperSkillsNetwork-DS0701EN-SkillsNetwork/api/Images/crash.gif)\n"
        },
        {
            "cell_type": "markdown",
            "metadata": {},
            "source": "More specifically, the launch records are stored in a HTML table shown below:\n"
        },
        {
            "cell_type": "markdown",
            "metadata": {},
            "source": "![](https://cf-courses-data.s3.us.cloud-object-storage.appdomain.cloud/IBM-DS0321EN-SkillsNetwork/labs/module\\_1\\_L2/images/falcon9-launches-wiki.png)\n"
        },
        {
            "cell_type": "markdown",
            "metadata": {},
            "source": "## Objectives\n\nWeb scrap Falcon 9 launch records with `BeautifulSoup`:\n\n*   Extract a Falcon 9 launch records HTML table from Wikipedia\n*   Parse the table and convert it into a Pandas data frame\n"
        },
        {
            "cell_type": "markdown",
            "metadata": {},
            "source": "First let's import required packages for this lab\n"
        },
        {
            "cell_type": "code",
            "execution_count": 1,
            "metadata": {},
            "outputs": [
                {
                    "name": "stdout",
                    "output_type": "stream",
                    "text": "/opt/conda/envs/Python-3.7-OpenCE/lib/python3.7/site-packages/secretstorage/dhcrypto.py:16: CryptographyDeprecationWarning: int_from_bytes is deprecated, use int.from_bytes instead\n  from cryptography.utils import int_from_bytes\n/opt/conda/envs/Python-3.7-OpenCE/lib/python3.7/site-packages/secretstorage/util.py:25: CryptographyDeprecationWarning: int_from_bytes is deprecated, use int.from_bytes instead\n  from cryptography.utils import int_from_bytes\nRequirement already satisfied: beautifulsoup4 in /opt/conda/envs/Python-3.7-OpenCE/lib/python3.7/site-packages (4.9.1)\nRequirement already satisfied: soupsieve>1.2 in /opt/conda/envs/Python-3.7-OpenCE/lib/python3.7/site-packages (from beautifulsoup4) (2.0.1)\n/opt/conda/envs/Python-3.7-OpenCE/lib/python3.7/site-packages/secretstorage/dhcrypto.py:16: CryptographyDeprecationWarning: int_from_bytes is deprecated, use int.from_bytes instead\n  from cryptography.utils import int_from_bytes\n/opt/conda/envs/Python-3.7-OpenCE/lib/python3.7/site-packages/secretstorage/util.py:25: CryptographyDeprecationWarning: int_from_bytes is deprecated, use int.from_bytes instead\n  from cryptography.utils import int_from_bytes\nRequirement already satisfied: requests in /opt/conda/envs/Python-3.7-OpenCE/lib/python3.7/site-packages (2.25.1)\nRequirement already satisfied: certifi>=2017.4.17 in /opt/conda/envs/Python-3.7-OpenCE/lib/python3.7/site-packages (from requests) (2021.5.30)\nRequirement already satisfied: chardet<5,>=3.0.2 in /opt/conda/envs/Python-3.7-OpenCE/lib/python3.7/site-packages (from requests) (3.0.4)\nRequirement already satisfied: urllib3<1.27,>=1.21.1 in /opt/conda/envs/Python-3.7-OpenCE/lib/python3.7/site-packages (from requests) (1.26.6)\nRequirement already satisfied: idna<3,>=2.5 in /opt/conda/envs/Python-3.7-OpenCE/lib/python3.7/site-packages (from requests) (2.8)\n"
                }
            ],
            "source": "!pip3 install beautifulsoup4\n!pip3 install requests"
        },
        {
            "cell_type": "code",
            "execution_count": 2,
            "metadata": {},
            "outputs": [],
            "source": "import sys\n\nimport requests\nfrom bs4 import BeautifulSoup\nimport re\nimport unicodedata\nimport pandas as pd"
        },
        {
            "cell_type": "markdown",
            "metadata": {},
            "source": "and we will provide some helper functions for you to process web scraped HTML table\n"
        },
        {
            "cell_type": "code",
            "execution_count": 3,
            "metadata": {},
            "outputs": [],
            "source": "def date_time(table_cells):\n    \"\"\"\n    This function returns the data and time from the HTML  table cell\n    Input: the  element of a table data cell extracts extra row\n    \"\"\"\n    return [data_time.strip() for data_time in list(table_cells.strings)][0:2]\n\ndef booster_version(table_cells):\n    \"\"\"\n    This function returns the booster version from the HTML  table cell \n    Input: the  element of a table data cell extracts extra row\n    \"\"\"\n    out=''.join([booster_version for i,booster_version in enumerate( table_cells.strings) if i%2==0][0:-1])\n    return out\n\ndef landing_status(table_cells):\n    \"\"\"\n    This function returns the landing status from the HTML table cell \n    Input: the  element of a table data cell extracts extra row\n    \"\"\"\n    out=[i for i in table_cells.strings][0]\n    return out\n\n\ndef get_mass(table_cells):\n    mass=unicodedata.normalize(\"NFKD\", table_cells.text).strip()\n    if mass:\n        mass.find(\"kg\")\n        new_mass=mass[0:mass.find(\"kg\")+2]\n    else:\n        new_mass=0\n    return new_mass\n\n\ndef extract_column_from_header(row):\n    \"\"\"\n    This function returns the landing status from the HTML table cell \n    Input: the  element of a table data cell extracts extra row\n    \"\"\"\n    if (row.br):\n        row.br.extract()\n    if row.a:\n        row.a.extract()\n    if row.sup:\n        row.sup.extract()\n        \n    colunm_name = ' '.join(row.contents)\n    \n    # Filter the digit and empty names\n    if not(colunm_name.strip().isdigit()):\n        colunm_name = colunm_name.strip()\n        return colunm_name    \n"
        },
        {
            "cell_type": "markdown",
            "metadata": {},
            "source": "To keep the lab tasks consistent, you will be asked to scrape the data from a snapshot of the  `List of Falcon 9 and Falcon Heavy launches` Wikipage updated on\n`9th June 2021`\n"
        },
        {
            "cell_type": "code",
            "execution_count": 4,
            "metadata": {},
            "outputs": [],
            "source": "static_url = \"https://en.wikipedia.org/w/index.php?title=List_of_Falcon_9_and_Falcon_Heavy_launches&oldid=1027686922\""
        },
        {
            "cell_type": "markdown",
            "metadata": {},
            "source": "Next, request the HTML page from the above URL and get a `response` object\n"
        },
        {
            "cell_type": "markdown",
            "metadata": {},
            "source": "### TASK 1: Request the Falcon9 Launch Wiki page from its URL\n"
        },
        {
            "cell_type": "markdown",
            "metadata": {},
            "source": "First, let's perform an HTTP GET method to request the Falcon9 Launch HTML page, as an HTTP response.\n"
        },
        {
            "cell_type": "code",
            "execution_count": 5,
            "metadata": {},
            "outputs": [],
            "source": "# use requests.get() method with the provided static_url\nresponse=requests.get(static_url)\n# assign the response to a object\n"
        },
        {
            "cell_type": "markdown",
            "metadata": {},
            "source": "Create a `BeautifulSoup` object from the HTML `response`\n"
        },
        {
            "cell_type": "code",
            "execution_count": 6,
            "metadata": {},
            "outputs": [],
            "source": "# Use BeautifulSoup() to create a BeautifulSoup object from a response text content\nsoup=BeautifulSoup(response.content,'html.parser')"
        },
        {
            "cell_type": "markdown",
            "metadata": {},
            "source": "Print the page title to verify if the `BeautifulSoup` object was created properly\n"
        },
        {
            "cell_type": "code",
            "execution_count": 7,
            "metadata": {},
            "outputs": [
                {
                    "data": {
                        "text/plain": "<title>List of Falcon 9 and Falcon Heavy launches - Wikipedia</title>"
                    },
                    "execution_count": 7,
                    "metadata": {},
                    "output_type": "execute_result"
                }
            ],
            "source": "# Use soup.title attribute\nsoup.title"
        },
        {
            "cell_type": "markdown",
            "metadata": {},
            "source": "### TASK 2: Extract all column/variable names from the HTML table header\n"
        },
        {
            "cell_type": "markdown",
            "metadata": {},
            "source": "Next, we want to collect all relevant column names from the HTML table header\n"
        },
        {
            "cell_type": "markdown",
            "metadata": {},
            "source": "Let's try to find all tables on the wiki page first. If you need to refresh your memory about `BeautifulSoup`, please check the external reference link towards the end of this lab\n"
        },
        {
            "cell_type": "code",
            "execution_count": 8,
            "metadata": {},
            "outputs": [],
            "source": "# Use the find_all function in the BeautifulSoup object, with element type `table`\n# Assign the result to a list called `html_tables`\nhtml_tables = soup.find_all('table')"
        },
        {
            "cell_type": "markdown",
            "metadata": {},
            "source": "Starting from the third table is our target table contains the actual launch records.\n"
        },
        {
            "cell_type": "code",
            "execution_count": 9,
            "metadata": {},
            "outputs": [
                {
                    "name": "stdout",
                    "output_type": "stream",
                    "text": "<table class=\"wikitable plainrowheaders collapsible\" style=\"width: 100%;\">\n<tbody><tr>\n<th scope=\"col\">Flight No.\n</th>\n<th scope=\"col\">Date and<br/>time (<a href=\"/wiki/Coordinated_Universal_Time\" title=\"Coordinated Universal Time\">UTC</a>)\n</th>\n<th scope=\"col\"><a href=\"/wiki/List_of_Falcon_9_first-stage_boosters\" title=\"List of Falcon 9 first-stage boosters\">Version,<br/>Booster</a> <sup class=\"reference\" id=\"cite_ref-booster_11-0\"><a href=\"#cite_note-booster-11\">[b]</a></sup>\n</th>\n<th scope=\"col\">Launch site\n</th>\n<th scope=\"col\">Payload<sup class=\"reference\" id=\"cite_ref-Dragon_12-0\"><a href=\"#cite_note-Dragon-12\">[c]</a></sup>\n</th>\n<th scope=\"col\">Payload mass\n</th>\n<th scope=\"col\">Orbit\n</th>\n<th scope=\"col\">Customer\n</th>\n<th scope=\"col\">Launch<br/>outcome\n</th>\n<th scope=\"col\"><a href=\"/wiki/Falcon_9_first-stage_landing_tests\" title=\"Falcon 9 first-stage landing tests\">Booster<br/>landing</a>\n</th></tr>\n<tr>\n<th rowspan=\"2\" scope=\"row\" style=\"text-align:center;\">1\n</th>\n<td>4 June 2010,<br/>18:45\n</td>\n<td><a href=\"/wiki/Falcon_9_v1.0\" title=\"Falcon 9 v1.0\">F9 v1.0</a><sup class=\"reference\" id=\"cite_ref-MuskMay2012_13-0\"><a href=\"#cite_note-MuskMay2012-13\">[7]</a></sup><br/>B0003.1<sup class=\"reference\" id=\"cite_ref-block_numbers_14-0\"><a href=\"#cite_note-block_numbers-14\">[8]</a></sup>\n</td>\n<td><a href=\"/wiki/Cape_Canaveral_Space_Force_Station\" title=\"Cape Canaveral Space Force Station\">CCAFS</a>,<br/><a href=\"/wiki/Cape_Canaveral_Space_Launch_Complex_40\" title=\"Cape Canaveral Space Launch Complex 40\">SLC-40</a>\n</td>\n<td><a href=\"/wiki/Dragon_Spacecraft_Qualification_Unit\" title=\"Dragon Spacecraft Qualification Unit\">Dragon Spacecraft Qualification Unit</a>\n</td>\n<td>\n</td>\n<td><a href=\"/wiki/Low_Earth_orbit\" title=\"Low Earth orbit\">LEO</a>\n</td>\n<td><a href=\"/wiki/SpaceX\" title=\"SpaceX\">SpaceX</a>\n</td>\n<td class=\"table-success\" style=\"background: LightGreen; color: black; vertical-align: middle; text-align: center;\">Success\n</td>\n<td class=\"table-failure\" style=\"background: #ffbbbb; color: black; vertical-align: middle; text-align: center;\">Failure<sup class=\"reference\" id=\"cite_ref-ns20110930_15-0\"><a href=\"#cite_note-ns20110930-15\">[9]</a></sup><sup class=\"reference\" id=\"cite_ref-16\"><a href=\"#cite_note-16\">[10]</a></sup><br/><small>(parachute)</small>\n</td></tr>\n<tr>\n<td colspan=\"9\">First flight of Falcon 9 v1.0.<sup class=\"reference\" id=\"cite_ref-sfn20100604_17-0\"><a href=\"#cite_note-sfn20100604-17\">[11]</a></sup> Used a boilerplate version of Dragon capsule which was not designed to separate from the second stage.<small>(<a href=\"#First_flight_of_Falcon_9\">more details below</a>)</small> Attempted to recover the first stage by parachuting it into the ocean, but it burned up on reentry, before the parachutes even deployed.<sup class=\"reference\" id=\"cite_ref-parachute_18-0\"><a href=\"#cite_note-parachute-18\">[12]</a></sup>\n</td></tr>\n<tr>\n<th rowspan=\"2\" scope=\"row\" style=\"text-align:center;\">2\n</th>\n<td>8 December 2010,<br/>15:43<sup class=\"reference\" id=\"cite_ref-spaceflightnow_Clark_Launch_Report_19-0\"><a href=\"#cite_note-spaceflightnow_Clark_Launch_Report-19\">[13]</a></sup>\n</td>\n<td><a href=\"/wiki/Falcon_9_v1.0\" title=\"Falcon 9 v1.0\">F9 v1.0</a><sup class=\"reference\" id=\"cite_ref-MuskMay2012_13-1\"><a href=\"#cite_note-MuskMay2012-13\">[7]</a></sup><br/>B0004.1<sup class=\"reference\" id=\"cite_ref-block_numbers_14-1\"><a href=\"#cite_note-block_numbers-14\">[8]</a></sup>\n</td>\n<td><a href=\"/wiki/Cape_Canaveral_Space_Force_Station\" title=\"Cape Canaveral Space Force Station\">CCAFS</a>,<br/><a href=\"/wiki/Cape_Canaveral_Space_Launch_Complex_40\" title=\"Cape Canaveral Space Launch Complex 40\">SLC-40</a>\n</td>\n<td><a href=\"/wiki/SpaceX_Dragon\" title=\"SpaceX Dragon\">Dragon</a> <a class=\"mw-redirect\" href=\"/wiki/COTS_Demo_Flight_1\" title=\"COTS Demo Flight 1\">demo flight C1</a><br/>(Dragon C101)\n</td>\n<td>\n</td>\n<td><a href=\"/wiki/Low_Earth_orbit\" title=\"Low Earth orbit\">LEO</a> (<a href=\"/wiki/International_Space_Station\" title=\"International Space Station\">ISS</a>)\n</td>\n<td><div class=\"plainlist\">\n<ul><li><a href=\"/wiki/NASA\" title=\"NASA\">NASA</a> (<a href=\"/wiki/Commercial_Orbital_Transportation_Services\" title=\"Commercial Orbital Transportation Services\">COTS</a>)</li>\n<li><a href=\"/wiki/National_Reconnaissance_Office\" title=\"National Reconnaissance Office\">NRO</a></li></ul>\n</div>\n</td>\n<td class=\"table-success\" style=\"background: LightGreen; color: black; vertical-align: middle; text-align: center;\">Success<sup class=\"reference\" id=\"cite_ref-ns20110930_15-1\"><a href=\"#cite_note-ns20110930-15\">[9]</a></sup>\n</td>\n<td class=\"table-failure\" style=\"background: #ffbbbb; color: black; vertical-align: middle; text-align: center;\">Failure<sup class=\"reference\" id=\"cite_ref-ns20110930_15-2\"><a href=\"#cite_note-ns20110930-15\">[9]</a></sup><sup class=\"reference\" id=\"cite_ref-20\"><a href=\"#cite_note-20\">[14]</a></sup><br/><small>(parachute)</small>\n</td></tr>\n<tr>\n<td colspan=\"9\">Maiden flight of <a class=\"mw-redirect\" href=\"/wiki/Dragon_capsule\" title=\"Dragon capsule\">Dragon capsule</a>, consisting of over 3 hours of testing thruster maneuvering and reentry.<sup class=\"reference\" id=\"cite_ref-spaceflightnow_Clark_unleashing_Dragon_21-0\"><a href=\"#cite_note-spaceflightnow_Clark_unleashing_Dragon-21\">[15]</a></sup> Attempted to recover the first stage by parachuting it into the ocean, but it disintegrated upon reentry, before the parachutes were deployed.<sup class=\"reference\" id=\"cite_ref-parachute_18-1\"><a href=\"#cite_note-parachute-18\">[12]</a></sup> <small>(<a href=\"#COTS_demo_missions\">more details below</a>)</small> It also included two <a href=\"/wiki/CubeSat\" title=\"CubeSat\">CubeSats</a>,<sup class=\"reference\" id=\"cite_ref-NRO_Taps_Boeing_for_Next_Batch_of_CubeSats_22-0\"><a href=\"#cite_note-NRO_Taps_Boeing_for_Next_Batch_of_CubeSats-22\">[16]</a></sup> and a wheel of <a href=\"/wiki/Brou%C3%A8re\" title=\"Brou\u00e8re\">Brou\u00e8re</a> cheese.\n</td></tr>\n<tr>\n<th rowspan=\"2\" scope=\"row\" style=\"text-align:center;\">3\n</th>\n<td>22 May 2012,<br/>07:44<sup class=\"reference\" id=\"cite_ref-BBC_new_era_23-0\"><a href=\"#cite_note-BBC_new_era-23\">[17]</a></sup>\n</td>\n<td><a href=\"/wiki/Falcon_9_v1.0\" title=\"Falcon 9 v1.0\">F9 v1.0</a><sup class=\"reference\" id=\"cite_ref-MuskMay2012_13-2\"><a href=\"#cite_note-MuskMay2012-13\">[7]</a></sup><br/>B0005.1<sup class=\"reference\" id=\"cite_ref-block_numbers_14-2\"><a href=\"#cite_note-block_numbers-14\">[8]</a></sup>\n</td>\n<td><a href=\"/wiki/Cape_Canaveral_Space_Force_Station\" title=\"Cape Canaveral Space Force Station\">CCAFS</a>,<br/><a href=\"/wiki/Cape_Canaveral_Space_Launch_Complex_40\" title=\"Cape Canaveral Space Launch Complex 40\">SLC-40</a>\n</td>\n<td><a href=\"/wiki/SpaceX_Dragon\" title=\"SpaceX Dragon\">Dragon</a> <a class=\"mw-redirect\" href=\"/wiki/Dragon_C2%2B\" title=\"Dragon C2+\">demo flight C2+</a><sup class=\"reference\" id=\"cite_ref-C2_24-0\"><a href=\"#cite_note-C2-24\">[18]</a></sup><br/>(Dragon C102)\n</td>\n<td>525\u00a0kg (1,157\u00a0lb)<sup class=\"reference\" id=\"cite_ref-25\"><a href=\"#cite_note-25\">[19]</a></sup>\n</td>\n<td><a href=\"/wiki/Low_Earth_orbit\" title=\"Low Earth orbit\">LEO</a> (<a href=\"/wiki/International_Space_Station\" title=\"International Space Station\">ISS</a>)\n</td>\n<td><a href=\"/wiki/NASA\" title=\"NASA\">NASA</a> (<a href=\"/wiki/Commercial_Orbital_Transportation_Services\" title=\"Commercial Orbital Transportation Services\">COTS</a>)\n</td>\n<td class=\"table-success\" style=\"background: LightGreen; color: black; vertical-align: middle; text-align: center;\">Success<sup class=\"reference\" id=\"cite_ref-26\"><a href=\"#cite_note-26\">[20]</a></sup>\n</td>\n<td class=\"table-noAttempt\" style=\"background: #ececec; color: black; vertical-align: middle; white-space: nowrap; text-align: center;\">No attempt\n</td></tr>\n<tr>\n<td colspan=\"9\">Dragon spacecraft demonstrated a series of tests before it was allowed to approach the <a href=\"/wiki/International_Space_Station\" title=\"International Space Station\">International Space Station</a>. Two days later, it became the first commercial spacecraft to board the ISS.<sup class=\"reference\" id=\"cite_ref-BBC_new_era_23-1\"><a href=\"#cite_note-BBC_new_era-23\">[17]</a></sup> <small>(<a href=\"#COTS_demo_missions\">more details below</a>)</small>\n</td></tr>\n<tr>\n<th rowspan=\"3\" scope=\"row\" style=\"text-align:center;\">4\n</th>\n<td rowspan=\"2\">8 October 2012,<br/>00:35<sup class=\"reference\" id=\"cite_ref-SFN_LLog_27-0\"><a href=\"#cite_note-SFN_LLog-27\">[21]</a></sup>\n</td>\n<td rowspan=\"2\"><a href=\"/wiki/Falcon_9_v1.0\" title=\"Falcon 9 v1.0\">F9 v1.0</a><sup class=\"reference\" id=\"cite_ref-MuskMay2012_13-3\"><a href=\"#cite_note-MuskMay2012-13\">[7]</a></sup><br/>B0006.1<sup class=\"reference\" id=\"cite_ref-block_numbers_14-3\"><a href=\"#cite_note-block_numbers-14\">[8]</a></sup>\n</td>\n<td rowspan=\"2\"><a href=\"/wiki/Cape_Canaveral_Space_Force_Station\" title=\"Cape Canaveral Space Force Station\">CCAFS</a>,<br/><a href=\"/wiki/Cape_Canaveral_Space_Launch_Complex_40\" title=\"Cape Canaveral Space Launch Complex 40\">SLC-40</a>\n</td>\n<td><a href=\"/wiki/SpaceX_CRS-1\" title=\"SpaceX CRS-1\">SpaceX CRS-1</a><sup class=\"reference\" id=\"cite_ref-sxManifest20120925_28-0\"><a href=\"#cite_note-sxManifest20120925-28\">[22]</a></sup><br/>(Dragon C103)\n</td>\n<td>4,700\u00a0kg (10,400\u00a0lb)\n</td>\n<td><a href=\"/wiki/Low_Earth_orbit\" title=\"Low Earth orbit\">LEO</a> (<a href=\"/wiki/International_Space_Station\" title=\"International Space Station\">ISS</a>)\n</td>\n<td><a href=\"/wiki/NASA\" title=\"NASA\">NASA</a> (<a href=\"/wiki/Commercial_Resupply_Services\" title=\"Commercial Resupply Services\">CRS</a>)\n</td>\n<td class=\"table-success\" style=\"background: LightGreen; color: black; vertical-align: middle; text-align: center;\">Success\n</td>\n<td rowspan=\"2\" style=\"background:#ececec; text-align:center;\"><span class=\"nowrap\">No attempt</span>\n</td></tr>\n<tr>\n<td><a href=\"/wiki/Orbcomm_(satellite)\" title=\"Orbcomm (satellite)\">Orbcomm-OG2</a><sup class=\"reference\" id=\"cite_ref-Orbcomm_29-0\"><a href=\"#cite_note-Orbcomm-29\">[23]</a></sup>\n</td>\n<td>172\u00a0kg (379\u00a0lb)<sup class=\"reference\" id=\"cite_ref-gunter-og2_30-0\"><a href=\"#cite_note-gunter-og2-30\">[24]</a></sup>\n</td>\n<td><a href=\"/wiki/Low_Earth_orbit\" title=\"Low Earth orbit\">LEO</a>\n</td>\n<td><a href=\"/wiki/Orbcomm\" title=\"Orbcomm\">Orbcomm</a>\n</td>\n<td class=\"table-partial\" style=\"background: wheat; color: black; vertical-align: middle; text-align: center;\">Partial failure<sup class=\"reference\" id=\"cite_ref-nyt-20121030_31-0\"><a href=\"#cite_note-nyt-20121030-31\">[25]</a></sup>\n</td></tr>\n<tr>\n<td colspan=\"9\">CRS-1 was successful, but the <a href=\"/wiki/Secondary_payload\" title=\"Secondary payload\">secondary payload</a> was inserted into an abnormally low orbit and subsequently lost. This was due to one of the nine <a href=\"/wiki/SpaceX_Merlin\" title=\"SpaceX Merlin\">Merlin engines</a> shutting down during the launch, and NASA declining a second reignition, as per <a href=\"/wiki/International_Space_Station\" title=\"International Space Station\">ISS</a> visiting vehicle safety rules, the primary payload owner is contractually allowed to decline a second reignition. NASA stated that this was because SpaceX could not guarantee a high enough likelihood of the second stage completing the second burn successfully which was required to avoid any risk of secondary payload's collision with the ISS.<sup class=\"reference\" id=\"cite_ref-OrbcommTotalLoss_32-0\"><a href=\"#cite_note-OrbcommTotalLoss-32\">[26]</a></sup><sup class=\"reference\" id=\"cite_ref-sn20121011_33-0\"><a href=\"#cite_note-sn20121011-33\">[27]</a></sup><sup class=\"reference\" id=\"cite_ref-34\"><a href=\"#cite_note-34\">[28]</a></sup>\n</td></tr>\n<tr>\n<th rowspan=\"2\" scope=\"row\" style=\"text-align:center;\">5\n</th>\n<td>1 March 2013,<br/>15:10\n</td>\n<td><a href=\"/wiki/Falcon_9_v1.0\" title=\"Falcon 9 v1.0\">F9 v1.0</a><sup class=\"reference\" id=\"cite_ref-MuskMay2012_13-4\"><a href=\"#cite_note-MuskMay2012-13\">[7]</a></sup><br/>B0007.1<sup class=\"reference\" id=\"cite_ref-block_numbers_14-4\"><a href=\"#cite_note-block_numbers-14\">[8]</a></sup>\n</td>\n<td><a href=\"/wiki/Cape_Canaveral_Space_Force_Station\" title=\"Cape Canaveral Space Force Station\">CCAFS</a>,<br/><a href=\"/wiki/Cape_Canaveral_Space_Launch_Complex_40\" title=\"Cape Canaveral Space Launch Complex 40\">SLC-40</a>\n</td>\n<td><a href=\"/wiki/SpaceX_CRS-2\" title=\"SpaceX CRS-2\">SpaceX CRS-2</a><sup class=\"reference\" id=\"cite_ref-sxManifest20120925_28-1\"><a href=\"#cite_note-sxManifest20120925-28\">[22]</a></sup><br/>(Dragon C104)\n</td>\n<td>4,877\u00a0kg (10,752\u00a0lb)\n</td>\n<td><a href=\"/wiki/Low_Earth_orbit\" title=\"Low Earth orbit\">LEO</a> (<a class=\"mw-redirect\" href=\"/wiki/ISS\" title=\"ISS\">ISS</a>)\n</td>\n<td><a href=\"/wiki/NASA\" title=\"NASA\">NASA</a> (<a href=\"/wiki/Commercial_Resupply_Services\" title=\"Commercial Resupply Services\">CRS</a>)\n</td>\n<td class=\"table-success\" style=\"background: LightGreen; color: black; vertical-align: middle; text-align: center;\">Success\n</td>\n<td class=\"table-noAttempt\" style=\"background: #ececec; color: black; vertical-align: middle; white-space: nowrap; text-align: center;\">No attempt\n</td></tr>\n<tr>\n<td colspan=\"9\">Last launch of the original Falcon 9 v1.0 <a href=\"/wiki/Launch_vehicle\" title=\"Launch vehicle\">launch vehicle</a>, first use of the unpressurized trunk section of Dragon.<sup class=\"reference\" id=\"cite_ref-sxf9_20110321_35-0\"><a href=\"#cite_note-sxf9_20110321-35\">[29]</a></sup>\n</td></tr>\n<tr>\n<th rowspan=\"2\" scope=\"row\" style=\"text-align:center;\">6\n</th>\n<td>29 September 2013,<br/>16:00<sup class=\"reference\" id=\"cite_ref-pa20130930_36-0\"><a href=\"#cite_note-pa20130930-36\">[30]</a></sup>\n</td>\n<td><a href=\"/wiki/Falcon_9_v1.1\" title=\"Falcon 9 v1.1\">F9 v1.1</a><sup class=\"reference\" id=\"cite_ref-MuskMay2012_13-5\"><a href=\"#cite_note-MuskMay2012-13\">[7]</a></sup><br/>B1003<sup class=\"reference\" id=\"cite_ref-block_numbers_14-5\"><a href=\"#cite_note-block_numbers-14\">[8]</a></sup>\n</td>\n<td><a class=\"mw-redirect\" href=\"/wiki/Vandenberg_Air_Force_Base\" title=\"Vandenberg Air Force Base\">VAFB</a>,<br/><a href=\"/wiki/Vandenberg_Space_Launch_Complex_4\" title=\"Vandenberg Space Launch Complex 4\">SLC-4E</a>\n</td>\n<td><a href=\"/wiki/CASSIOPE\" title=\"CASSIOPE\">CASSIOPE</a><sup class=\"reference\" id=\"cite_ref-sxManifest20120925_28-2\"><a href=\"#cite_note-sxManifest20120925-28\">[22]</a></sup><sup class=\"reference\" id=\"cite_ref-CASSIOPE_MDA_37-0\"><a href=\"#cite_note-CASSIOPE_MDA-37\">[31]</a></sup>\n</td>\n<td>500\u00a0kg (1,100\u00a0lb)\n</td>\n<td><a href=\"/wiki/Polar_orbit\" title=\"Polar orbit\">Polar orbit</a> <a href=\"/wiki/Low_Earth_orbit\" title=\"Low Earth orbit\">LEO</a>\n</td>\n<td><a href=\"/wiki/Maxar_Technologies\" title=\"Maxar Technologies\">MDA</a>\n</td>\n<td class=\"table-success\" style=\"background: LightGreen; color: black; vertical-align: middle; text-align: center;\">Success<sup class=\"reference\" id=\"cite_ref-pa20130930_36-1\"><a href=\"#cite_note-pa20130930-36\">[30]</a></sup>\n</td>\n<td class=\"table-no2\" style=\"background: #ffdddd; color: black; vertical-align: middle; text-align: center;\">Uncontrolled<br/><small>(ocean)</small><sup class=\"reference\" id=\"cite_ref-ocean_landing_38-0\"><a href=\"#cite_note-ocean_landing-38\">[d]</a></sup>\n</td></tr>\n<tr>\n<td colspan=\"9\">First commercial mission with a private customer, first launch from Vandenberg, and demonstration flight of Falcon 9 v1.1 with an improved 13-tonne to LEO capacity.<sup class=\"reference\" id=\"cite_ref-sxf9_20110321_35-1\"><a href=\"#cite_note-sxf9_20110321-35\">[29]</a></sup> After separation from the second stage carrying Canadian commercial and scientific satellites, the first stage booster performed a controlled reentry,<sup class=\"reference\" id=\"cite_ref-39\"><a href=\"#cite_note-39\">[32]</a></sup> and an <a href=\"/wiki/Falcon_9_first-stage_landing_tests\" title=\"Falcon 9 first-stage landing tests\">ocean touchdown test</a> for the first time. This provided good test data, even though the booster started rolling as it neared the ocean, leading to the shutdown of the central engine as the roll depleted it of fuel, resulting in a hard impact with the ocean.<sup class=\"reference\" id=\"cite_ref-pa20130930_36-2\"><a href=\"#cite_note-pa20130930-36\">[30]</a></sup> This was the first known attempt of a rocket engine being lit to perform a supersonic retro propulsion, and allowed SpaceX to enter a public-private partnership with <a href=\"/wiki/NASA\" title=\"NASA\">NASA</a> and its Mars entry, descent, and landing technologies research projects.<sup class=\"reference\" id=\"cite_ref-40\"><a href=\"#cite_note-40\">[33]</a></sup> <small>(<a href=\"#Maiden_flight_of_v1.1\">more details below</a>)</small>\n</td></tr>\n<tr>\n<th rowspan=\"2\" scope=\"row\" style=\"text-align:center;\">7\n</th>\n<td>3 December 2013,<br/>22:41<sup class=\"reference\" id=\"cite_ref-sfn_wwls20130624_41-0\"><a href=\"#cite_note-sfn_wwls20130624-41\">[34]</a></sup>\n</td>\n<td><a href=\"/wiki/Falcon_9_v1.1\" title=\"Falcon 9 v1.1\">F9 v1.1</a><br/>B1004\n</td>\n<td><a href=\"/wiki/Cape_Canaveral_Space_Force_Station\" title=\"Cape Canaveral Space Force Station\">CCAFS</a>,<br/><a href=\"/wiki/Cape_Canaveral_Space_Launch_Complex_40\" title=\"Cape Canaveral Space Launch Complex 40\">SLC-40</a>\n</td>\n<td><a href=\"/wiki/SES-8\" title=\"SES-8\">SES-8</a><sup class=\"reference\" id=\"cite_ref-sxManifest20120925_28-3\"><a href=\"#cite_note-sxManifest20120925-28\">[22]</a></sup><sup class=\"reference\" id=\"cite_ref-spx-pr_42-0\"><a href=\"#cite_note-spx-pr-42\">[35]</a></sup><sup class=\"reference\" id=\"cite_ref-aw20110323_43-0\"><a href=\"#cite_note-aw20110323-43\">[36]</a></sup>\n</td>\n<td>3,170\u00a0kg (6,990\u00a0lb)\n</td>\n<td><a href=\"/wiki/Geostationary_transfer_orbit\" title=\"Geostationary transfer orbit\">GTO</a>\n</td>\n<td><a href=\"/wiki/SES_S.A.\" title=\"SES S.A.\">SES</a>\n</td>\n<td class=\"table-success\" style=\"background: LightGreen; color: black; vertical-align: middle; text-align: center;\">Success<sup class=\"reference\" id=\"cite_ref-SNMissionStatus7_44-0\"><a href=\"#cite_note-SNMissionStatus7-44\">[37]</a></sup>\n</td>\n<td class=\"table-noAttempt\" style=\"background: #ececec; color: black; vertical-align: middle; white-space: nowrap; text-align: center;\">No attempt<br/><sup class=\"reference\" id=\"cite_ref-sf10120131203_45-0\"><a href=\"#cite_note-sf10120131203-45\">[38]</a></sup>\n</td></tr>\n<tr>\n<td colspan=\"9\">First <a href=\"/wiki/Geostationary_transfer_orbit\" title=\"Geostationary transfer orbit\">Geostationary transfer orbit</a> (GTO) launch for Falcon 9,<sup class=\"reference\" id=\"cite_ref-spx-pr_42-1\"><a href=\"#cite_note-spx-pr-42\">[35]</a></sup> and first successful reignition of the second stage.<sup class=\"reference\" id=\"cite_ref-46\"><a href=\"#cite_note-46\">[39]</a></sup> SES-8 was inserted into a <a href=\"/wiki/Geostationary_transfer_orbit\" title=\"Geostationary transfer orbit\">Super-Synchronous Transfer Orbit</a> of 79,341\u00a0km (49,300\u00a0mi) in apogee with an <a href=\"/wiki/Orbital_inclination\" title=\"Orbital inclination\">inclination</a> of 20.55\u00b0 to the <a href=\"/wiki/Equator\" title=\"Equator\">equator</a>.\n</td></tr></tbody></table>\n"
                }
            ],
            "source": "# Let's print the third table and check its content\nfirst_launch_table = html_tables[2]\nprint(first_launch_table)"
        },
        {
            "cell_type": "markdown",
            "metadata": {},
            "source": "You should able to see the columns names embedded in the table header elements `<th>` as follows:\n"
        },
        {
            "cell_type": "markdown",
            "metadata": {},
            "source": "```\n<tr>\n<th scope=\"col\">Flight No.\n</th>\n<th scope=\"col\">Date and<br/>time (<a href=\"/wiki/Coordinated_Universal_Time\" title=\"Coordinated Universal Time\">UTC</a>)\n</th>\n<th scope=\"col\"><a href=\"/wiki/List_of_Falcon_9_first-stage_boosters\" title=\"List of Falcon 9 first-stage boosters\">Version,<br/>Booster</a> <sup class=\"reference\" id=\"cite_ref-booster_11-0\"><a href=\"#cite_note-booster-11\">[b]</a></sup>\n</th>\n<th scope=\"col\">Launch site\n</th>\n<th scope=\"col\">Payload<sup class=\"reference\" id=\"cite_ref-Dragon_12-0\"><a href=\"#cite_note-Dragon-12\">[c]</a></sup>\n</th>\n<th scope=\"col\">Payload mass\n</th>\n<th scope=\"col\">Orbit\n</th>\n<th scope=\"col\">Customer\n</th>\n<th scope=\"col\">Launch<br/>outcome\n</th>\n<th scope=\"col\"><a href=\"/wiki/Falcon_9_first-stage_landing_tests\" title=\"Falcon 9 first-stage landing tests\">Booster<br/>landing</a>\n</th></tr>\n```\n"
        },
        {
            "cell_type": "markdown",
            "metadata": {},
            "source": "Next, we just need to iterate through the `<th>` elements and apply the provided `extract_column_from_header()` to extract column name one by one\n"
        },
        {
            "cell_type": "code",
            "execution_count": 10,
            "metadata": {},
            "outputs": [],
            "source": "column_names = []\n\n# Apply find_all() function with `th` element on first_launch_table\n# Iterate each th element and apply the provided extract_column_from_header() to get a column name\n# Append the Non-empty column name (`if name is not None and len(name) > 0`) into a list called column_names\nfor name in first_launch_table.find_all('th'):\n    if extract_column_from_header(name) is not None and len(extract_column_from_header(name)) > 0:\n            column_names.append(extract_column_from_header(name))"
        },
        {
            "cell_type": "markdown",
            "metadata": {},
            "source": "Check the extracted column names\n"
        },
        {
            "cell_type": "code",
            "execution_count": 11,
            "metadata": {},
            "outputs": [
                {
                    "name": "stdout",
                    "output_type": "stream",
                    "text": "['Flight No.', 'Date and time ( )', 'Launch site', 'Payload', 'Payload mass', 'Orbit', 'Customer', 'Launch outcome']\n"
                }
            ],
            "source": "print(column_names)"
        },
        {
            "cell_type": "markdown",
            "metadata": {},
            "source": "## TASK 3: Create a data frame by parsing the launch HTML tables\n"
        },
        {
            "cell_type": "markdown",
            "metadata": {},
            "source": "We will create an empty dictionary with keys from the extracted column names in the previous task. Later, this dictionary will be converted into a Pandas dataframe\n"
        },
        {
            "cell_type": "code",
            "execution_count": 12,
            "metadata": {},
            "outputs": [],
            "source": "launch_dict= dict.fromkeys(column_names)\n\n# Remove an irrelvant column\ndel launch_dict['Date and time ( )']\n\n# Let's initial the launch_dict with each value to be an empty list\nlaunch_dict['Flight No.'] = []\nlaunch_dict['Launch site'] = []\nlaunch_dict['Payload'] = []\nlaunch_dict['Payload mass'] = []\nlaunch_dict['Orbit'] = []\nlaunch_dict['Customer'] = []\nlaunch_dict['Launch outcome'] = []\n# Added some new columns\nlaunch_dict['Version Booster']=[]\nlaunch_dict['Booster landing']=[]\nlaunch_dict['Date']=[]\nlaunch_dict['Time']=[]"
        },
        {
            "cell_type": "markdown",
            "metadata": {},
            "source": "Next, we just need to fill up the `launch_dict` with launch records extracted from table rows.\n"
        },
        {
            "cell_type": "markdown",
            "metadata": {},
            "source": "Usually, HTML tables in Wiki pages are likely to contain unexpected annotations and other types of noises, such as reference links `B0004.1[8]`, missing values `N/A [e]`, inconsistent formatting, etc.\n"
        },
        {
            "cell_type": "markdown",
            "metadata": {},
            "source": "To simplify the parsing process, we have provided an incomplete code snippet below to help you to fill up the `launch_dict`. Please complete the following code snippet with TODOs or you can choose to write your own logic to parse all launch tables:\n"
        },
        {
            "cell_type": "code",
            "execution_count": 20,
            "metadata": {},
            "outputs": [
                {
                    "name": "stdout",
                    "output_type": "stream",
                    "text": "Flight No.:  1\nDate:  4 June 2010\nTime:  18:45\nVersion Booster:  F9 v1.0B0003.1\nLaunch site:  CCAFS\nPayload:  Dragon Spacecraft Qualification Unit\nPayload mass: 0\nOrbit: LEO\nCustomer:  SpaceX\nLaunch outcome:  Success\n\nBooster landing:  Failure\nFlight No.:  2\nDate:  8 December 2010\nTime:  15:43\nVersion Booster:  F9 v1.0B0004.1\nLaunch site:  CCAFS\nPayload:  Dragon\nPayload mass: 0\nOrbit: LEO\nCustomer:  NASA\nLaunch outcome:  Success\nBooster landing:  Failure\nFlight No.:  3\nDate:  22 May 2012\nTime:  07:44\nVersion Booster:  F9 v1.0B0005.1\nLaunch site:  CCAFS\nPayload:  Dragon\nPayload mass: 525 kg\nOrbit: LEO\nCustomer:  NASA\nLaunch outcome:  Success\nBooster landing:  No attempt\n\nFlight No.:  4\nDate:  8 October 2012\nTime:  00:35\nVersion Booster:  F9 v1.0B0006.1\nLaunch site:  CCAFS\nPayload:  SpaceX CRS-1\nPayload mass: 4,700 kg\nOrbit: LEO\nCustomer:  NASA\nLaunch outcome:  Success\n\nBooster landing:  No attempt\nFlight No.:  5\nDate:  1 March 2013\nTime:  15:10\nVersion Booster:  F9 v1.0B0007.1\nLaunch site:  CCAFS\nPayload:  SpaceX CRS-2\nPayload mass: 4,877 kg\nOrbit: LEO\nCustomer:  NASA\nLaunch outcome:  Success\n\nBooster landing:  No attempt\n\nFlight No.:  6\nDate:  29 September 2013\nTime:  16:00\nVersion Booster:  F9 v1.1B1003\nLaunch site:  VAFB\nPayload:  CASSIOPE\nPayload mass: 500 kg\nOrbit: Polar orbit\nCustomer:  MDA\nLaunch outcome:  Success\nBooster landing:  Uncontrolled\nFlight No.:  7\nDate:  3 December 2013\nTime:  22:41\nVersion Booster:  F9 v1.1\nLaunch site:  CCAFS\nPayload:  SES-8\nPayload mass: 3,170 kg\nOrbit: GTO\nCustomer:  SES\nLaunch outcome:  Success\nBooster landing:  No attempt\nFlight No.:  8\nDate:  6 January 2014\nTime:  22:06\nVersion Booster:  F9 v1.1\nLaunch site:  CCAFS\nPayload:  Thaicom 6\nPayload mass: 3,325 kg\nOrbit: GTO\nCustomer:  Thaicom\nLaunch outcome:  Success\nBooster landing:  No attempt\nFlight No.:  9\nDate:  18 April 2014\nTime:  19:25\nVersion Booster:  F9 v1.1\nLaunch site:  Cape Canaveral\nPayload:  SpaceX CRS-3\nPayload mass: 2,296 kg\nOrbit: LEO\nCustomer:  NASA\nLaunch outcome:  Success\n\nBooster landing:  Controlled\nFlight No.:  10\nDate:  14 July 2014\nTime:  15:15\nVersion Booster:  F9 v1.1\nLaunch site:  Cape Canaveral\nPayload:  Orbcomm-OG2\nPayload mass: 1,316 kg\nOrbit: LEO\nCustomer:  Orbcomm\nLaunch outcome:  Success\nBooster landing:  Controlled\nFlight No.:  11\nDate:  5 August 2014\nTime:  08:00\nVersion Booster:  F9 v1.1\nLaunch site:  Cape Canaveral\nPayload:  AsiaSat 8\nPayload mass: 4,535 kg\nOrbit: GTO\nCustomer:  AsiaSat\nLaunch outcome:  Success\nBooster landing:  No attempt\nFlight No.:  12\nDate:  7 September 2014\nTime:  05:00\nVersion Booster:  F9 v1.1\nLaunch site:  Cape Canaveral\nPayload:  AsiaSat 6\nPayload mass: 4,428 kg\nOrbit: GTO\nCustomer:  AsiaSat\nLaunch outcome:  Success\nBooster landing:  No attempt\n\nFlight No.:  13\nDate:  21 September 2014\nTime:  05:52\nVersion Booster:  F9 v1.1\nLaunch site:  Cape Canaveral\nPayload:  SpaceX CRS-4\nPayload mass: 2,216 kg\nOrbit: LEO\nCustomer:  NASA\nLaunch outcome:  Success\nBooster landing:  Uncontrolled\nFlight No.:  14\nDate:  10 January 2015\nTime:  09:47\nVersion Booster:  F9 v1.1\nLaunch site:  Cape Canaveral\nPayload:  SpaceX CRS-5\nPayload mass: 2,395 kg\nOrbit: LEO\nCustomer:  NASA\nLaunch outcome:  Success\nBooster landing:  Failure \nFlight No.:  15\nDate:  11 February 2015\nTime:  23:03\nVersion Booster:  F9 v1.1\nLaunch site:  Cape Canaveral\nPayload:  DSCOVR\nPayload mass: 570 kg\nOrbit: HEO\nCustomer:  USAF\nLaunch outcome:  Success\n\nBooster landing:  Controlled\nFlight No.:  16\nDate:  2 March 2015\nTime:  03:50\nVersion Booster:  F9 v1.1\nLaunch site:  Cape Canaveral\nPayload:  ABS-3A\nPayload mass: 4,159 kg\nOrbit: GTO\nCustomer:  ABS\nLaunch outcome:  Success\n\nBooster landing:  No attempt\nFlight No.:  17\nDate:  14 April 2015\nTime:  20:10\nVersion Booster:  F9 v1.1\nLaunch site:  Cape Canaveral\nPayload:  SpaceX CRS-6\nPayload mass: 1,898 kg\nOrbit: LEO\nCustomer:  NASA\nLaunch outcome:  Success\n\nBooster landing:  Failure\nFlight No.:  18\nDate:  27 April 2015\nTime:  23:03\nVersion Booster:  F9 v1.1\nLaunch site:  Cape Canaveral\nPayload:  T\u00fcrkmen\u00c4lem 52\u00b0E / MonacoSAT\nPayload mass: 4,707 kg\nOrbit: GTO\nCustomer:  None\nLaunch outcome:  Success\n\nBooster landing:  No attempt\nFlight No.:  19\nDate:  28 June 2015\nTime:  14:21\nVersion Booster:  F9 v1.1\nLaunch site:  Cape Canaveral\nPayload:  SpaceX CRS-7\nPayload mass: 1,952 kg\nOrbit: LEO\nCustomer:  NASA\nLaunch outcome:  Failure\nBooster landing:  Precluded\nFlight No.:  20\nDate:  22 December 2015\nTime:  01:29\nVersion Booster:  F9 FT\nLaunch site:  Cape Canaveral\nPayload:  Orbcomm-OG2\nPayload mass: 2,034 kg\nOrbit: LEO\nCustomer:  Orbcomm\nLaunch outcome:  Success\n\nBooster landing:  Success\nFlight No.:  21\nDate:  17 January 2016\nTime:  18:42\nVersion Booster:  F9 v1.1\nLaunch site:  VAFB\nPayload:  Jason-3\nPayload mass: 553 kg\nOrbit: LEO\nCustomer:  NASA\nLaunch outcome:  Success\n\nBooster landing:  Failure\nFlight No.:  22\nDate:  4 March 2016\nTime:  23:35\nVersion Booster:  F9 FT\nLaunch site:  Cape Canaveral\nPayload:  SES-9\nPayload mass: 5,271 kg\nOrbit: GTO\nCustomer:  SES\nLaunch outcome:  Success\n\nBooster landing:  Failure\nFlight No.:  23\nDate:  8 April 2016\nTime:  20:43\nVersion Booster:  F9 FT\nLaunch site:  Cape Canaveral\nPayload:  SpaceX CRS-8\nPayload mass: 3,136 kg\nOrbit: LEO\nCustomer:  NASA\nLaunch outcome:  Success\nBooster landing:  Success\nFlight No.:  24\nDate:  6 May 2016\nTime:  05:21\nVersion Booster:  F9 FT\nLaunch site:  Cape Canaveral\nPayload:  JCSAT-14\nPayload mass: 4,696 kg\nOrbit: GTO\nCustomer:  SKY Perfect JSAT Group\nLaunch outcome:  Success\n\nBooster landing:  Success\nFlight No.:  25\nDate:  27 May 2016\nTime:  21:39\nVersion Booster:  F9 FT\nLaunch site:  Cape Canaveral\nPayload:  Thaicom 8\nPayload mass: 3,100 kg\nOrbit: GTO\nCustomer:  Thaicom\nLaunch outcome:  Success\n\nBooster landing:  Success\nFlight No.:  26\nDate:  15 June 2016\nTime:  14:29\nVersion Booster:  F9 FT\nLaunch site:  Cape Canaveral\nPayload:  ABS-2A\nPayload mass: 3,600 kg\nOrbit: GTO\nCustomer:  ABS\nLaunch outcome:  Success\n\nBooster landing:  Failure\nFlight No.:  27\nDate:  18 July 2016\nTime:  04:45\nVersion Booster:  F9 FT\nLaunch site:  Cape Canaveral\nPayload:  SpaceX CRS-9\nPayload mass: 2,257 kg\nOrbit: LEO\nCustomer:  NASA\nLaunch outcome:  Success\n\nBooster landing:  Success\nFlight No.:  28\nDate:  14 August 2016\nTime:  05:26\nVersion Booster:  F9 FT\nLaunch site:  Cape Canaveral\nPayload:  JCSAT-16\nPayload mass: 4,600 kg\nOrbit: GTO\nCustomer:  SKY Perfect JSAT Group\nLaunch outcome:  Success\n\nBooster landing:  Success\nFlight No.:  29\nDate:  14 January 2017\nTime:  17:54\nVersion Booster:  F9 FT\nLaunch site:  VAFB\nPayload:  Iridium NEXT\nPayload mass: 9,600 kg\nOrbit: Polar\nCustomer:  Iridium Communications\nLaunch outcome:  Success\n\nBooster landing:  Success\nFlight No.:  30\nDate:  19 February 2017\nTime:  14:39\nVersion Booster:  F9 FT\nLaunch site:  KSC\nPayload:  SpaceX CRS-10\nPayload mass: 2,490 kg\nOrbit: LEO\nCustomer:  NASA\nLaunch outcome:  Success\n\nBooster landing:  Success\nFlight No.:  31\nDate:  16 March 2017\nTime:  06:00\nVersion Booster:  F9 FT\nLaunch site:  KSC\nPayload:  EchoStar 23\nPayload mass: 5,600 kg\nOrbit: GTO\nCustomer:  EchoStar\nLaunch outcome:  Success\n\nBooster landing:  No attempt\nFlight No.:  32\nDate:  30 March 2017\nTime:  22:27\nVersion Booster:  F9 FT\u267a\nLaunch site:  KSC\nPayload:  SES-10\nPayload mass: 5,300 kg\nOrbit: GTO\nCustomer:  SES\nLaunch outcome:  Success\nBooster landing:  Success\nFlight No.:  33\nDate:  1 May 2017\nTime:  11:15\nVersion Booster:  F9 FT\nLaunch site:  KSC\nPayload:  NROL-76\nPayload mass: C\nOrbit: LEO\nCustomer:  NRO\nLaunch outcome:  Success\n\nBooster landing:  Success\nFlight No.:  34\nDate:  15 May 2017\nTime:  23:21\nVersion Booster:  F9 FT\nLaunch site:  KSC\nPayload:  Inmarsat-5 F4\nPayload mass: 6,070 kg\nOrbit: GTO\nCustomer:  Inmarsat\nLaunch outcome:  Success\n\nBooster landing:  No attempt\nFlight No.:  35\nDate:  3 June 2017\nTime:  21:07\nVersion Booster:  F9 FT\nLaunch site:  KSC\nPayload:  SpaceX CRS-11\nPayload mass: 2,708 kg\nOrbit: LEO\nCustomer:  NASA\nLaunch outcome:  Success\n\nBooster landing:  Success\nFlight No.:  36\nDate:  23 June 2017\nTime:  19:10\nVersion Booster:  F9 FTB1029.2\nLaunch site:  KSC\nPayload:  BulgariaSat-1\nPayload mass: 3,669 kg\nOrbit: GTO\nCustomer:  Bulsatcom\nLaunch outcome:  Success\n\nBooster landing:  Success\nFlight No.:  37\nDate:  25 June 2017\nTime:  20:25\nVersion Booster:  F9 FT\nLaunch site:  VAFB\nPayload:  Iridium NEXT\nPayload mass: 9,600 kg\nOrbit: LEO\nCustomer:  Iridium Communications\nLaunch outcome:  Success\n\nBooster landing:  Success\nFlight No.:  38\nDate:  5 July 2017\nTime:  23:38\nVersion Booster:  F9 FT\nLaunch site:  KSC\nPayload:  Intelsat 35e\nPayload mass: 6,761 kg\nOrbit: GTO\nCustomer:  Intelsat\nLaunch outcome:  Success\n\nBooster landing:  No attempt\nFlight No.:  39\nDate:  14 August 2017\nTime:  16:31\nVersion Booster:  F9 B4\nLaunch site:  KSC\nPayload:  SpaceX CRS-12\nPayload mass: 3,310 kg\nOrbit: LEO\nCustomer:  NASA\nLaunch outcome:  Success\n\nBooster landing:  Success\nFlight No.:  40\nDate:  24 August 2017\nTime:  18:51\nVersion Booster:  F9 FT\nLaunch site:  VAFB\nPayload:  Formosat-5\nPayload mass: 475 kg\nOrbit: SSO\nCustomer:  NSPO\nLaunch outcome:  Success\n\nBooster landing:  Success\nFlight No.:  41\nDate:  7 September 2017\nTime:  14:00\nVersion Booster:  F9 B4\nLaunch site:  KSC\nPayload:  Boeing X-37B\nPayload mass: 4,990 kg\nOrbit: LEO\nCustomer:  USAF\nLaunch outcome:  Success\n\nBooster landing:  Success\nFlight No.:  42\nDate:  9 October 2017\nTime:  12:37\nVersion Booster:  F9 B4\nLaunch site:  VAFB\nPayload:  Iridium NEXT\nPayload mass: 9,600 kg\nOrbit: Polar\nCustomer:  Iridium Communications\nLaunch outcome:  Success\n\nBooster landing:  Success\nFlight No.:  43\nDate:  11 October 2017\nTime:  22:53:00\nVersion Booster:  F9 FTB1031.2\nLaunch site:  KSC\nPayload:  SES-11\nPayload mass: 5,200 kg\nOrbit: GTO\nCustomer:  SES S.A.\nLaunch outcome:  Success\n\nBooster landing:  Success\nFlight No.:  44\nDate:  30 October 2017\nTime:  19:34\nVersion Booster:  F9 B4\nLaunch site:  KSC\nPayload:  Koreasat 5A\nPayload mass: 3,500 kg\nOrbit: GTO\nCustomer:  KT Corporation\nLaunch outcome:  Success\n\nBooster landing:  Success\nFlight No.:  45\nDate:  15 December 2017\nTime:  15:36\nVersion Booster:  F9 FTB1035.2\nLaunch site:  Cape Canaveral\nPayload:  SpaceX CRS-13\nPayload mass: 2,205 kg\nOrbit: LEO\nCustomer:  NASA\nLaunch outcome:  Success\n\nBooster landing:  Success\nFlight No.:  46\nDate:  23 December 2017\nTime:  01:27\nVersion Booster:  F9 FTB1036.2\nLaunch site:  VAFB\nPayload:  Iridium NEXT\nPayload mass: 9,600 kg\nOrbit: Polar\nCustomer:  Iridium Communications\nLaunch outcome:  Success\nBooster landing:  Controlled\nFlight No.:  47\nDate:  8 January 2018\nTime:  01:00\nVersion Booster:  F9 B4\nLaunch site:  CCAFS\nPayload:  Zuma\nPayload mass: C\nOrbit: LEO\nCustomer:  Northrop Grumman\nLaunch outcome:  Success\nBooster landing:  Success\nFlight No.:  48\nDate:  31 January 2018\nTime:  21:25\nVersion Booster:  F9 FTB1032.2\nLaunch site:  CCAFS\nPayload:  GovSat-1\nPayload mass: 4,230 kg\nOrbit: GTO\nCustomer:  SES\nLaunch outcome:  Success\nBooster landing:  Controlled\nFlight No.:  49\nDate:  22 February 2018\nTime:  14:17\nVersion Booster:  F9 FTB1038.2\nLaunch site:  VAFB\nPayload:  Paz\nPayload mass: 2,150 kg\nOrbit: SSO\nCustomer:  Hisdesat\nLaunch outcome:  Success\nBooster landing:  No attempt\nFlight No.:  50\nDate:  6 March 2018\nTime:  05:33\nVersion Booster:  F9 B4\nLaunch site:  CCAFS\nPayload:  Hispasat 30W-6\nPayload mass: 6,092 kg\nOrbit: GTO\nCustomer:  Hispasat\nLaunch outcome:  Success\nBooster landing:  No attempt\nFlight No.:  51\nDate:  30 March 2018\nTime:  14:14\nVersion Booster:  F9 B4B1041.2\nLaunch site:  VAFB\nPayload:  Iridium NEXT\nPayload mass: 9,600 kg\nOrbit: Polar\nCustomer:  Iridium Communications\nLaunch outcome:  Success\nBooster landing:  No attempt\nFlight No.:  52\nDate:  2 April 2018\nTime:  20:30\nVersion Booster:  F9 B4B1039.2\nLaunch site:  CCAFS\nPayload:  SpaceX CRS-14\nPayload mass: 2,647 kg\nOrbit: LEO\nCustomer:  NASA\nLaunch outcome:  Success\nBooster landing:  No attempt\nFlight No.:  53\nDate:  18 April 2018\nTime:  22:51\nVersion Booster:  F9 B4\nLaunch site:  CCAFS\nPayload:  Transiting Exoplanet Survey Satellite\nPayload mass: 362 kg\nOrbit: HEO\nCustomer:  NASA\nLaunch outcome:  Success\nBooster landing:  Success\nFlight No.:  54\nDate:  11 May 2018\nTime:  20:14\nVersion Booster:  F9 B5B1046.1\nLaunch site:  KSC\nPayload:  Bangabandhu-1\nPayload mass: 3,600 kg\nOrbit: GTO\nCustomer:  Thales-Alenia\nLaunch outcome:  Success\nBooster landing:  Success\nFlight No.:  55\nDate:  22 May 2018\nTime:  19:47\nVersion Booster:  F9 B4B1043.2\nLaunch site:  VAFB\nPayload:  Iridium NEXT\nPayload mass: 6,460 kg\nOrbit: Polar\nCustomer:  Iridium Communications\nLaunch outcome:  Success\nBooster landing:  No attempt\nFlight No.:  56\nDate:  4 June 2018\nTime:  04:45\nVersion Booster:  F9 B4B1040.2\nLaunch site:  CCAFS\nPayload:  SES-12\nPayload mass: 5,384 kg\nOrbit: GTO\nCustomer:  SES\nLaunch outcome:  Success\nBooster landing:  No attempt\nFlight No.:  57\nDate:  29 June 2018\nTime:  09:42\nVersion Booster:  F9 B4B1045.2\nLaunch site:  CCAFS\nPayload:  SpaceX CRS-15\nPayload mass: 2,697 kg\nOrbit: LEO\nCustomer:  NASA\nLaunch outcome:  Success\nBooster landing:  No attempt\nFlight No.:  58\nDate:  22 July 2018\nTime:  05:50\nVersion Booster:  F9 B5\nLaunch site:  CCAFS\nPayload:  Telstar 19V\nPayload mass: 7,075 kg\nOrbit: GTO\nCustomer:  Telesat\nLaunch outcome:  Success\nBooster landing:  Success\nFlight No.:  59\nDate:  25 July 2018\nTime:  11:39\nVersion Booster:  F9 B5B1048\nLaunch site:  VAFB\nPayload:  Iridium NEXT\nPayload mass: 9,600 kg\nOrbit: Polar\nCustomer:  Iridium Communications\nLaunch outcome:  Success\nBooster landing:  Success\nFlight No.:  60\nDate:  7 August 2018\nTime:  05:18\nVersion Booster:  F9 B5B1046.2\nLaunch site:  CCAFS\nPayload:  Merah Putih\nPayload mass: 5,800 kg\nOrbit: GTO\nCustomer:  Telkom Indonesia\nLaunch outcome:  Success\nBooster landing:  Success\nFlight No.:  61\nDate:  10 September 2018\nTime:  04:45\nVersion Booster:  F9 B5\nLaunch site:  CCAFS\nPayload:  Telstar 18V\nPayload mass: 7,060 kg\nOrbit: GTO\nCustomer:  Telesat\nLaunch outcome:  Success\nBooster landing:  Success\nFlight No.:  62\nDate:  8 October 2018\nTime:  02:22\nVersion Booster:  F9 B5B1048.2\nLaunch site:  VAFB\nPayload:  SAOCOM 1A\nPayload mass: 3,000 kg\nOrbit: SSO\nCustomer:  CONAE\nLaunch outcome:  Success\nBooster landing:  Success\nFlight No.:  63\nDate:  15 November 2018\nTime:  20:46\nVersion Booster:  F9 B5B1047.2\nLaunch site:  KSC\nPayload:  Es'hail 2\nPayload mass: 5,300 kg\nOrbit: GTO\nCustomer:  Es'hailSat\nLaunch outcome:  Success\nBooster landing:  Success\nFlight No.:  64\nDate:  3 December 2018\nTime:  18:34:05\nVersion Booster:  F9 B5B1046.3\nLaunch site:  VAFB\nPayload:  SSO-A\nPayload mass: ~4,000 kg\nOrbit: SSO\nCustomer:  Spaceflight Industries\nLaunch outcome:  Success\nBooster landing:  Success\nFlight No.:  65\nDate:  5 December 2018\nTime:  18:16\nVersion Booster:  F9 B5\nLaunch site:  CCAFS\nPayload:  SpaceX CRS-16\nPayload mass: 2,500 kg\nOrbit: LEO\nCustomer:  NASA\nLaunch outcome:  Success\n\nBooster landing:  Failure\nFlight No.:  66\nDate:  23 December 2018\nTime:  13:51\nVersion Booster:  F9 B5\nLaunch site:  CCAFS\nPayload:  GPS III\nPayload mass: 4,400 kg\nOrbit: MEO\nCustomer:  USAF\nLaunch outcome:  Success\nBooster landing:  No attempt\nFlight No.:  67\nDate:  11 January 2019\nTime:  15:31\nVersion Booster:  F9 B5B1049.2\nLaunch site:  VAFB\nPayload:  Iridium NEXT\nPayload mass: 9,600 kg\nOrbit: Polar\nCustomer:  Iridium Communications\nLaunch outcome:  Success\n\nBooster landing:  Success\nFlight No.:  68\nDate:  22 February 2019\nTime:  01:45\nVersion Booster:  F9 B5B1048.3\nLaunch site:  CCAFS\nPayload:  Nusantara Satu\nPayload mass: 4,850 kg\nOrbit: GTO\nCustomer:  PSN\nLaunch outcome:  Success\n\nBooster landing:  Success\nFlight No.:  69\nDate:  2 March 2019\nTime:  07:49\nVersion Booster:  F9 B5[268]\nLaunch site:  KSC\nPayload:  Crew Dragon Demo-1\nPayload mass: 12,055 kg\nOrbit: LEO\nCustomer:  NASA\nLaunch outcome:  Success\n\nBooster landing:  Success\nFlight No.:  70\nDate:  4 May 2019\nTime:  06:48\nVersion Booster:  F9 B5\nLaunch site:  CCAFS\nPayload:  SpaceX CRS-17\nPayload mass: 2,495 kg\nOrbit: LEO\nCustomer:  NASA\nLaunch outcome:  Success\n\nBooster landing:  Success\nFlight No.:  71\nDate:  24 May 2019\nTime:  02:30\nVersion Booster:  F9 B5B1049.3\nLaunch site:  CCAFS\nPayload:  Starlink\nPayload mass: 13,620 kg\nOrbit: LEO\nCustomer:  SpaceX\nLaunch outcome:  Success\n\nBooster landing:  Success\nFlight No.:  72\nDate:  12 June 2019\nTime:  14:17\nVersion Booster:  F9 B5B1051.2\nLaunch site:  VAFB\nPayload:  RADARSAT Constellation\nPayload mass: 4,200 kg\nOrbit: SSO\nCustomer:  Canadian Space Agency\nLaunch outcome:  Success\n\nBooster landing:  Success\nFlight No.:  73\nDate:  25 July 2019\nTime:  22:01\nVersion Booster:  F9 B5B1056.2\nLaunch site:  CCAFS\nPayload:  SpaceX CRS-18\nPayload mass: 2,268 kg\nOrbit: LEO\nCustomer:  NASA\nLaunch outcome:  Success\n\nBooster landing:  Success\nFlight No.:  74\nDate:  6 August 2019\nTime:  23:23\nVersion Booster:  F9 B5B1047.3\nLaunch site:  CCAFS\nPayload:  AMOS-17\nPayload mass: 6,500 kg\nOrbit: GTO\nCustomer:  Spacecom\nLaunch outcome:  Success\n\nBooster landing:  No attempt\nFlight No.:  75\nDate:  11 November 2019\nTime:  14:56\nVersion Booster:  F9 B5\nLaunch site:  CCAFS\nPayload:  Starlink\nPayload mass: 15,600 kg\nOrbit: LEO\nCustomer:  SpaceX\nLaunch outcome:  Success\n\nBooster landing:  Success\nFlight No.:  76\nDate:  5 December 2019\nTime:  17:29\nVersion Booster:  F9 B5\nLaunch site:  CCAFS\nPayload:  SpaceX CRS-19\nPayload mass: 2,617 kg\nOrbit: LEO\nCustomer:  NASA\nLaunch outcome:  Success\n\nBooster landing:  Success\nFlight No.:  77\nDate:  17 December 2019\nTime:  00:10\nVersion Booster:  F9 B5B1056.3\nLaunch site:  CCAFS\nPayload:  JCSat-18\nPayload mass: 6,956 kg\nOrbit: GTO\nCustomer:  Sky Perfect JSAT\nLaunch outcome:  Success\n\nBooster landing:  Success\nFlight No.:  78\nDate:  7 January 2020\nTime:  02:19:21\nVersion Booster:  F9 B5\nLaunch site:  CCAFS\nPayload:  Starlink\nPayload mass: 15,600 kg\nOrbit: LEO\nCustomer:  SpaceX\nLaunch outcome:  Success\n\nBooster landing:  Success\nFlight No.:  79\nDate:  19 January 2020\nTime:  15:30\nVersion Booster:  F9 B5\nLaunch site:  KSC\nPayload:  Crew Dragon in-flight abort test\nPayload mass: 12,050 kg\nOrbit: Sub-orbital\nCustomer:  NASA\nLaunch outcome:  Success\n\nBooster landing:  No attempt\n\nFlight No.:  80\nDate:  29 January 2020\nTime:  14:07\nVersion Booster:  F9 B5\nLaunch site:  CCAFS\nPayload:  Starlink\nPayload mass: 15,600 kg\nOrbit: LEO\nCustomer:  SpaceX\nLaunch outcome:  Success\n\nBooster landing:  Success\nFlight No.:  81\nDate:  17 February 2020\nTime:  15:05\nVersion Booster:  F9 B5\nLaunch site:  CCAFS\nPayload:  Starlink\nPayload mass: 15,600 kg\nOrbit: LEO\nCustomer:  SpaceX\nLaunch outcome:  Success\n\nBooster landing:  Failure\nFlight No.:  82\nDate:  7 March 2020\nTime:  04:50\nVersion Booster:  F9 B5\nLaunch site:  CCAFS\nPayload:  SpaceX CRS-20\nPayload mass: 1,977 kg\nOrbit: LEO\nCustomer:  NASA\nLaunch outcome:  Success\n\nBooster landing:  Success\nFlight No.:  83\nDate:  18 March 2020\nTime:  12:16\nVersion Booster:  F9 B5\nLaunch site:  KSC\nPayload:  Starlink\nPayload mass: 15,600 kg\nOrbit: LEO\nCustomer:  SpaceX\nLaunch outcome:  Success\n\nBooster landing:  Failure\nFlight No.:  84\nDate:  22 April 2020\nTime:  19:30\nVersion Booster:  F9 B5\nLaunch site:  KSC\nPayload:  Starlink\nPayload mass: 15,600 kg\nOrbit: LEO\nCustomer:  SpaceX\nLaunch outcome:  Success\n\nBooster landing:  Success\nFlight No.:  85\nDate:  30 May 2020\nTime:  19:22\nVersion Booster:  F9 B5\nLaunch site:  KSC\nPayload:  Crew Dragon Demo-2\nPayload mass: 12,530 kg\nOrbit: LEO\nCustomer:  NASA\nLaunch outcome:  Success\n\nBooster landing:  Success\nFlight No.:  86\nDate:  4 June 2020\nTime:  01:25\nVersion Booster:  F9 B5\nLaunch site:  CCAFS\nPayload:  Starlink\nPayload mass: 15,600 kg\nOrbit: LEO\nCustomer:  SpaceX\nLaunch outcome:  Success\n\nBooster landing:  Success\nFlight No.:  87\nDate:  13 June 2020\nTime:  09:21\nVersion Booster:  F9 B5\nLaunch site:  CCAFS\nPayload:  Starlink\nPayload mass: 15,410 kg\nOrbit: LEO\nCustomer:  SpaceX\nLaunch outcome:  Success\n\nBooster landing:  Success\nFlight No.:  88\nDate:  30 June 2020\nTime:  20:10:46\nVersion Booster:  F9 B5\nLaunch site:  CCAFS\nPayload:  GPS III\nPayload mass: 4,311 kg\nOrbit: MEO\nCustomer:  U.S. Space Force\nLaunch outcome:  Success\n\nBooster landing:  Success\nFlight No.:  89\nDate:  20 July 2020\nTime:  21:30\nVersion Booster:  F9 B5B1058.2\nLaunch site:  CCAFS\nPayload:  ANASIS-II\nPayload mass: 5,000\u20136,000 kg\nOrbit: GTO\nCustomer:  Republic of Korea Army\nLaunch outcome:  Success\n\nBooster landing:  Success\nFlight No.:  90\nDate:  7 August 2020\nTime:  05:12\nVersion Booster:  F9 B5\nLaunch site:  KSC\nPayload:  Starlink\nPayload mass: 14,932 kg\nOrbit: LEO\nCustomer:  SpaceX\nLaunch outcome:  Success\n\nBooster landing:  Success\nFlight No.:  91\nDate:  18 August 2020\nTime:  14:31\nVersion Booster:  F9 B5B1049.6\nLaunch site:  CCAFS\nPayload:  Starlink\nPayload mass: ~15,440 kg\nOrbit: LEO\nCustomer:  SpaceX\nLaunch outcome:  Success\n\nBooster landing:  Success\nFlight No.:  92\nDate:  30 August 2020\nTime:  23:18\nVersion Booster:  F9 B5\nLaunch site:  CCAFS\nPayload:  SAOCOM 1B\nPayload mass: 3,130 kg\nOrbit: SSO\nCustomer:  CONAE\nLaunch outcome:  Success\n\nBooster landing:  Success\nFlight No.:  93\nDate:  3 September 2020\nTime:  12:46:14\nVersion Booster:  F9 B5B1060.2\nLaunch site:  KSC\nPayload:  Starlink\nPayload mass: 15,600 kg\nOrbit: LEO\nCustomer:  SpaceX\nLaunch outcome:  Success\n\nBooster landing:  Success\nFlight No.:  94\nDate:  6 October 2020\nTime:  11:29:34\nVersion Booster:  F9 B5B1058.3\nLaunch site:  KSC\nPayload:  Starlink\nPayload mass: 15,600 kg\nOrbit: LEO\nCustomer:  SpaceX\nLaunch outcome:  Success\n\nBooster landing:  Success\nFlight No.:  95\nDate:  18 October 2020\nTime:  12:25:57\nVersion Booster:  F9 B5B1051.6\nLaunch site:  KSC\nPayload:  Starlink\nPayload mass: 15,600 kg\nOrbit: LEO\nCustomer:  SpaceX\nLaunch outcome:  Success\n\nBooster landing:  Success\nFlight No.:  96\nDate:  24 October 2020\nTime:  15:31:34\nVersion Booster:  F9 B5\nLaunch site:  CCAFS\nPayload:  Starlink\nPayload mass: 15,600 kg\nOrbit: LEO\nCustomer:  SpaceX\nLaunch outcome:  Success\n\nBooster landing:  Success\nFlight No.:  97\nDate:  5 November 2020\nTime:  23:24:23\nVersion Booster:  F9 B5\nLaunch site:  CCAFS\nPayload:  GPS III\nPayload mass: 4,311 kg\nOrbit: MEO\nCustomer:  USSF\nLaunch outcome:  Success\n\nBooster landing:  Success\nFlight No.:  98\nDate:  16 November 2020\nTime:  00:27\nVersion Booster:  F9 B5\nLaunch site:  KSC\nPayload:  Crew-1\nPayload mass: ~12,500 kg\nOrbit: LEO\nCustomer:  NASA\nLaunch outcome:  Success\n\nBooster landing:  Success\nFlight No.:  99\nDate:  21 November 2020\nTime:  17:17:08\nVersion Booster:  F9 B5\nLaunch site:  VAFB\nPayload:  Sentinel-6 Michael Freilich (Jason-CS A)\nPayload mass: 1,192 kg\nOrbit: LEO\nCustomer:  NASA\nLaunch outcome:  Success\n\nBooster landing:  Success\nFlight No.:  100\nDate:  25 November 2020\nTime:  02:13\nVersion Booster:  F9 B5 \u267a\nLaunch site:  CCAFS\nPayload:  Starlink\nPayload mass: 15,600 kg\nOrbit: LEO\nCustomer:  SpaceX\nLaunch outcome:  Success\n\nBooster landing:  Success\nFlight No.:  101\nDate:  6 December 2020\nTime:  16:17:08\nVersion Booster:  F9 B5 \u267a\nLaunch site:  KSC\nPayload:  SpaceX CRS-21\nPayload mass: 2,972 kg\nOrbit: LEO\nCustomer:  NASA\nLaunch outcome:  Success\n\nBooster landing:  Success\nFlight No.:  102\nDate:  13 December 2020\nTime:  17:30:00\nVersion Booster:  F9 B5 \u267a\nLaunch site:  CCSFS\nPayload:  SXM-7\nPayload mass: 7,000 kg\nOrbit: GTO\nCustomer:  Sirius XM\nLaunch outcome:  Success\n\nBooster landing:  Success\nFlight No.:  103\nDate:  19 December 2020\nTime:  14:00:00\nVersion Booster:  F9 B5 \u267a\nLaunch site:  KSC\nPayload:  NROL-108\nPayload mass: C\nOrbit: LEO\nCustomer:  NRO\nLaunch outcome:  Success\n\nBooster landing:  Success\nFlight No.:  104\nDate:  8 January 2021\nTime:  02:15\nVersion Booster:  F9 B5\nLaunch site:  CCSFS\nPayload:  T\u00fcrksat 5A\nPayload mass: 3,500 kg\nOrbit: GTO\nCustomer:  T\u00fcrksat\nLaunch outcome:  Success\n\nBooster landing:  Success\nFlight No.:  105\nDate:  20 January 2021\nTime:  13:02\nVersion Booster:  F9 B5B1051.8\nLaunch site:  KSC\nPayload:  Starlink\nPayload mass: 15,600 kg\nOrbit: LEO\nCustomer:  SpaceX\nLaunch outcome:  Success\n\nBooster landing:  Success\nFlight No.:  106\nDate:  24 January 2021\nTime:  15:00\nVersion Booster:  F9 B5B1058.5\nLaunch site:  CCSFS\nPayload:  Transporter-1\nPayload mass: ~5,000 kg\nOrbit: SSO\nCustomer:  Various\n\nLaunch outcome:  Success\n\nBooster landing:  Success\nFlight No.:  107\nDate:  4 February 2021\nTime:  06:19\nVersion Booster:  F9 B5 \u267a\nLaunch site:  CCSFS\nPayload:  Starlink\nPayload mass: 15,600 kg\nOrbit: LEO\nCustomer:  SpaceX\nLaunch outcome:  Success\n\nBooster landing:  Success\nFlight No.:  108\nDate:  16 February 2021\nTime:  03:59:37\nVersion Booster:  F9 B5 \u267a\nLaunch site:  CCSFS\nPayload:  Starlink\nPayload mass: 15,600 kg\nOrbit: LEO\nCustomer:  SpaceX\nLaunch outcome:  Success\n\nBooster landing:  Failure\nFlight No.:  109\nDate:  4 March 2021\nTime:  08:24\nVersion Booster:  F9 B5 \u267a\nLaunch site:  KSC\nPayload:  Starlink\nPayload mass: 15,600 kg\nOrbit: LEO\nCustomer:  SpaceX\nLaunch outcome:  Success\n\nBooster landing:  Success\nFlight No.:  110\nDate:  11 March 2021\nTime:  08:13:29\nVersion Booster:  F9 B5 \u267a\nLaunch site:  CCSFS\nPayload:  Starlink\nPayload mass: 15,600 kg\nOrbit: LEO\nCustomer:  SpaceX\nLaunch outcome:  Success\n\nBooster landing:  Success\nFlight No.:  111\nDate:  14 March 2021\nTime:  10:01\nVersion Booster:  F9 B5 \u267a\nLaunch site:  KSC\nPayload:  Starlink\nPayload mass: 15,600 kg\nOrbit: LEO\nCustomer:  SpaceX\nLaunch outcome:  Success\n\nBooster landing:  Success\nFlight No.:  112\nDate:  24 March 2021\nTime:  08:28\nVersion Booster:  F9 B5B1060.6\nLaunch site:  CCSFS\nPayload:  Starlink\nPayload mass: 15,600 kg\nOrbit: LEO\nCustomer:  SpaceX\nLaunch outcome:  Success\n\nBooster landing:  Success\nFlight No.:  113\nDate:  7 April 2021\nTime:  16:34\nVersion Booster:  F9 B5 \u267a\nLaunch site:  CCSFS\nPayload:  Starlink\nPayload mass: 15,600 kg\nOrbit: LEO\nCustomer:  SpaceX\nLaunch outcome:  Success\n\nBooster landing:  Success\nFlight No.:  114\nDate:  23 April 2021\nTime:  9:49\nVersion Booster:  F9 B5B1061.2\nLaunch site:  KSC\nPayload:  Crew-2\nPayload mass: ~13,000 kg\nOrbit: LEO\nCustomer:  NASA\nLaunch outcome:  Success\n\nBooster landing:  Success\nFlight No.:  115\nDate:  29 April 2021\nTime:  03:44\nVersion Booster:  F9 B5B1060.7\nLaunch site:  CCSFS\nPayload:  Starlink\nPayload mass: 15,600 kg\nOrbit: LEO\nCustomer:  SpaceX\nLaunch outcome:  Success\n\nBooster landing:  Success\nFlight No.:  116\nDate:  4 May 2021\nTime:  19:01\nVersion Booster:  F9 B5B1049.9\nLaunch site:  KSC\nPayload:  Starlink\nPayload mass: 15,600 kg\nOrbit: LEO\nCustomer:  SpaceX\nLaunch outcome:  Success\n\nBooster landing:  Success\nFlight No.:  117\nDate:  9 May 2021\nTime:  06:42\nVersion Booster:  F9 B5B1051.10\nLaunch site:  CCSFS\nPayload:  Starlink\nPayload mass: 15,600 kg\nOrbit: LEO\nCustomer:  SpaceX\nLaunch outcome:  Success\n\nBooster landing:  Success\nFlight No.:  118\nDate:  15 May 2021\nTime:  22:56\nVersion Booster:  F9 B5B1058.8\nLaunch site:  KSC\nPayload:  Starlink\nPayload mass: ~14,000 kg\nOrbit: LEO\nCustomer:  SpaceX\nLaunch outcome:  Success\n\nBooster landing:  Success\nFlight No.:  119\nDate:  26 May 2021\nTime:  18:59\nVersion Booster:  F9 B5B1063.2\nLaunch site:  CCSFS\nPayload:  Starlink\nPayload mass: 15,600 kg\nOrbit: LEO\nCustomer:  SpaceX\nLaunch outcome:  Success\n\nBooster landing:  Success\nFlight No.:  120\nDate:  3 June 2021\nTime:  17:29\nVersion Booster:  F9 B5B1067.1\nLaunch site:  KSC\nPayload:  SpaceX CRS-22\nPayload mass: 3,328 kg\nOrbit: LEO\nCustomer:  NASA\nLaunch outcome:  Success\n\nBooster landing:  Success\nFlight No.:  121\nDate:  6 June 2021\nTime:  04:26\nVersion Booster:  F9 B5\nLaunch site:  CCSFS\nPayload:  SXM-8\nPayload mass: 7,000 kg\nOrbit: GTO\nCustomer:  Sirius XM\nLaunch outcome:  Success\n\nBooster landing:  Success\n"
                }
            ],
            "source": "extracted_row = 0\n#Extract each table \nfor table_number,table in enumerate(soup.find_all('table',\"wikitable plainrowheaders collapsible\")):\n   # get table row \n    for rows in table.find_all(\"tr\"):\n        #check to see if first table heading is as number corresponding to launch a number \n        if rows.th:\n            if rows.th.string:\n                flight_number=rows.th.string.strip()\n                flag=flight_number.isdigit()\n        else:\n            flag=False\n        #get table element \n        row=rows.find_all('td')\n        #if it is number save cells in a dictonary \n        if flag:\n            extracted_row += 1\n            # Flight Number value\n            # TODO: Append the flight_number into launch_dict with key `Flight No.`\n            #print(flight_number)\n            launch_dict['Flight No.'].append(flight_number)\n            print('Flight No.: ', flight_number)\n            \n            \n            datatimelist=date_time(row[0])\n            \n            # Date value\n            # TODO: Append the date into launch_dict with key `Date`\n            \n            date = datatimelist[0].strip(',')\n            launch_dict['Date'].append(date)\n            print('Date: ', date)\n            \n            \n            # Time value\n            # TODO: Append the time into launch_dict with key `Time`\n           \n            time = datatimelist[1]\n            launch_dict['Time'].append(time)\n            print('Time: ', time)\n              \n            # Booster version\n            # TODO: Append the bv into launch_dict with key `Version Booster`\n            \n            bv=booster_version(row[1])\n            if not(bv):\n                bv=row[1].a.string\n            launch_dict['Version Booster'].append(bv)\n            print('Version Booster: ', bv)\n            \n            # Launch Site\n            # TODO: Append the bv into launch_dict with key `Launch Site`\n            launch_site = row[2].a.string\n            launch_dict['Launch site'].append(launch_site)\n            print('Launch site: ', launch_site)\n            \n            # Payload\n            # TODO: Append the payload into launch_dict with key `Payload`\n            \n            payload = row[3].a.string\n            launch_dict['Payload'].append(payload)\n            print('Payload: ', payload)\n            \n            # Payload Mass\n            # TODO: Append the payload_mass into launch_dict with key `Payload mass`\n            \n            payload_mass = get_mass(row[4])\n            launch_dict['Payload mass'].append(payload_mass)\n            print('Payload mass:', payload_mass)\n            \n            # Orbit\n            # TODO: Append the orbit into launch_dict with key `Orbit`\n            \n            orbit = row[5].a.string\n            launch_dict['Orbit'].append(orbit)\n            print('Orbit:', orbit)\n            \n            # Customer\n            # TODO: Append the customer into launch_dict with key `Customer`\n            \n            if row[6].a:\n                customer = row[6].a.string\n            else:\n                customer = row[6].string\n            launch_dict['Customer'].append(customer)\n            print(\"Customer: \", customer)\n            \n            # Launch outcome\n            # TODO: Append the launch_outcome into launch_dict with key `Launch outcome`\n            \n            launch_outcome = list(row[7].strings)[0]\n            launch_dict['Launch outcome'].append(launch_outcome)\n            print('Launch outcome: ', launch_outcome)\n            \n            # Booster landing\n            # TODO: Append the launch_outcome into launch_dict with key `Booster landing`\n            \n            booster_landing = landing_status(row[8])\n            launch_dict['Booster landing'].append(booster_landing)\n            print('Booster landing: ', booster_landing)\n            "
        },
        {
            "cell_type": "markdown",
            "metadata": {},
            "source": "After you have fill in the parsed launch record values into `launch_dict`, you can create a dataframe from it.\n"
        },
        {
            "cell_type": "code",
            "execution_count": 14,
            "metadata": {},
            "outputs": [],
            "source": "df=pd.DataFrame(launch_dict)"
        },
        {
            "cell_type": "markdown",
            "metadata": {},
            "source": "We can now export it to a <b>CSV</b> for the next section, but to make the answers consistent and in case you have difficulties finishing this lab.\n\nFollowing labs will be using a provided dataset to make each lab independent.\n"
        },
        {
            "cell_type": "markdown",
            "metadata": {},
            "source": "<code>df.to_csv('spacex_web_scraped.csv', index=False)</code>\n"
        },
        {
            "cell_type": "markdown",
            "metadata": {},
            "source": "## Authors\n"
        },
        {
            "cell_type": "markdown",
            "metadata": {},
            "source": "<a href=\"https://www.linkedin.com/in/yan-luo-96288783/?utm_medium=Exinfluencer&utm_source=Exinfluencer&utm_content=000026UJ&utm_term=10006555&utm_id=NA-SkillsNetwork-Channel-SkillsNetworkCoursesIBMDS0321ENSkillsNetwork26802033-2021-01-01\">Yan Luo</a>\n"
        },
        {
            "cell_type": "markdown",
            "metadata": {},
            "source": "<a href=\"https://www.linkedin.com/in/nayefaboutayoun/?utm_medium=Exinfluencer&utm_source=Exinfluencer&utm_content=000026UJ&utm_term=10006555&utm_id=NA-SkillsNetwork-Channel-SkillsNetworkCoursesIBMDS0321ENSkillsNetwork26802033-2021-01-01\">Nayef Abou Tayoun</a>\n"
        },
        {
            "cell_type": "markdown",
            "metadata": {},
            "source": "## Change Log\n"
        },
        {
            "cell_type": "markdown",
            "metadata": {},
            "source": "| Date (YYYY-MM-DD) | Version | Changed By | Change Description          |\n| ----------------- | ------- | ---------- | --------------------------- |\n| 2021-06-09        | 1.0     | Yan Luo    | Tasks updates               |\n| 2020-11-10        | 1.0     | Nayef      | Created the initial version |\n"
        },
        {
            "cell_type": "markdown",
            "metadata": {},
            "source": "Copyright \u00a9 2021 IBM Corporation. All rights reserved.\n"
        }
    ],
    "metadata": {
        "kernelspec": {
            "display_name": "Python 3.7",
            "language": "python",
            "name": "python3"
        },
        "language_info": {
            "codemirror_mode": {
                "name": "ipython",
                "version": 3
            },
            "file_extension": ".py",
            "mimetype": "text/x-python",
            "name": "python",
            "nbconvert_exporter": "python",
            "pygments_lexer": "ipython3",
            "version": "3.7.11"
        }
    },
    "nbformat": 4,
    "nbformat_minor": 4
}